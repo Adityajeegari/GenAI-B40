{
  "nbformat": 4,
  "nbformat_minor": 0,
  "metadata": {
    "colab": {
      "provenance": [],
      "authorship_tag": "ABX9TyPpfPUG0AW7vab5Cn0FA6Ex",
      "include_colab_link": true
    },
    "kernelspec": {
      "name": "python3",
      "display_name": "Python 3"
    },
    "language_info": {
      "name": "python"
    }
  },
  "cells": [
    {
      "cell_type": "markdown",
      "metadata": {
        "id": "view-in-github",
        "colab_type": "text"
      },
      "source": [
        "<a href=\"https://colab.research.google.com/github/Adityajeegari/GenAIB-40/blob/main/ASSIGNMENT_4_GI.ipynb\" target=\"_parent\"><img src=\"https://colab.research.google.com/assets/colab-badge.svg\" alt=\"Open In Colab\"/></a>"
      ]
    },
    {
      "cell_type": "markdown",
      "source": [
        "# ADITYA JEEGARI(2303A52113)"
      ],
      "metadata": {
        "id": "xx8RcXUvTkuk"
      }
    },
    {
      "cell_type": "markdown",
      "source": [
        "*Question 1:*"
      ],
      "metadata": {
        "id": "Hd4eyhEFTs0U"
      }
    },
    {
      "cell_type": "code",
      "execution_count": 3,
      "metadata": {
        "colab": {
          "base_uri": "https://localhost:8080/"
        },
        "id": "zfH4OxPRPZbb",
        "outputId": "830a2bc9-4933-4407-b0e4-1e88b6000ed9"
      },
      "outputs": [
        {
          "output_type": "stream",
          "name": "stdout",
          "text": [
            "Training MSE: 0.0035464588481496123\n",
            "Testing MSE: 0.011459981334118793\n",
            "Enter x1: 0.1\n",
            "Enter x2: 0.2\n",
            "Enter x3: 0.3\n",
            "Predicted Output: [0.0345509]\n"
          ]
        }
      ],
      "source": [
        "import numpy as np\n",
        "\n",
        "# Training data\n",
        "X_train = np.array([\n",
        "    [0.1, 0.2, 0.3],\n",
        "    [0.2, 0.3, 0.4],\n",
        "    [0.3, 0.4, 0.5],\n",
        "    [0.5, 0.6, 0.7],\n",
        "    [0.1, 0.3, 0.5],\n",
        "    [0.2, 0.4, 0.6],\n",
        "    [0.3, 0.5, 0.7],\n",
        "    [0.4, 0.6, 0.8],\n",
        "    [0.5, 0.7, 0.1]\n",
        "])\n",
        "y_train = np.array([0.14, 0.20, 0.26, 0.38, 0.22, 0.28, 0.34, 0.40, 0.22])\n",
        "\n",
        "# Initialize weights and bias\n",
        "weights = np.random.rand(3)\n",
        "bias = np.random.rand(1)\n",
        "\n",
        "# Hyperparameters\n",
        "learning_rate = 0.01\n",
        "epochs = 1000\n",
        "\n",
        "# Linear activation function\n",
        "def linear_activation(x):\n",
        "    return x\n",
        "\n",
        "# Mean Squared Error\n",
        "def mse(y_true, y_pred):\n",
        "    return np.mean((y_true - y_pred) ** 2)\n",
        "\n",
        "# Training the model\n",
        "for epoch in range(epochs):\n",
        "    # Forward pass\n",
        "    y_pred = np.dot(X_train, weights) + bias\n",
        "    y_pred = linear_activation(y_pred)\n",
        "\n",
        "    # Compute error\n",
        "    error = y_train - y_pred\n",
        "\n",
        "    # Backward pass (gradient descent)\n",
        "    weights_gradient = -2 * np.dot(X_train.T, error) / len(X_train)\n",
        "    bias_gradient = -2 * np.mean(error)\n",
        "\n",
        "    # Update weights and bias\n",
        "    weights -= learning_rate * weights_gradient\n",
        "    bias -= learning_rate * bias_gradient\n",
        "\n",
        "# Calculate mean squared error on training data\n",
        "train_mse = mse(y_train, y_pred)\n",
        "print(f\"Training MSE: {train_mse}\")\n",
        "\n",
        "# Test data\n",
        "X_test = np.array([\n",
        "    [0.6, 0.7, 0.8],\n",
        "    [0.7, 0.8, 0.9]\n",
        "])\n",
        "y_test = np.array([0.44, 0.50])\n",
        "\n",
        "# Predict on test data\n",
        "y_test_pred = np.dot(X_test, weights) + bias\n",
        "y_test_pred = linear_activation(y_test_pred)\n",
        "\n",
        "# Calculate mean squared error on test data\n",
        "test_mse = mse(y_test, y_test_pred)\n",
        "print(f\"Testing MSE: {test_mse}\")\n",
        "\n",
        "# Predict output for user input\n",
        "def predict(x1, x2, x3):\n",
        "    input_data = np.array([x1, x2, x3])\n",
        "    output = np.dot(input_data, weights) + bias\n",
        "    return linear_activation(output)\n",
        "\n",
        "# Read input data from user\n",
        "x1 = float(input(\"Enter x1: \"))\n",
        "x2 = float(input(\"Enter x2: \"))\n",
        "x3 = float(input(\"Enter x3: \"))\n",
        "predicted_output = predict(x1, x2, x3)\n",
        "print(f\"Predicted Output: {predicted_output}\")"
      ]
    },
    {
      "cell_type": "markdown",
      "source": [
        "*Question 2:*"
      ],
      "metadata": {
        "id": "CDkFCZstT0Zt"
      }
    },
    {
      "cell_type": "code",
      "source": [
        "import numpy as np\n",
        "\n",
        "# Sigmoid activation function\n",
        "def sigmoid(x):\n",
        "    return 1 / (1 + np.exp(-x))\n",
        "\n",
        "# Derivative of sigmoid function\n",
        "def sigmoid_derivative(x):\n",
        "    return sigmoid(x) * (1 - sigmoid(x))\n",
        "\n",
        "# Training data\n",
        "X_train = np.array([\n",
        "    [0.1, 0.2, 0.3],\n",
        "    [0.2, 0.3, 0.4],\n",
        "    [0.3, 0.4, 0.5],\n",
        "    [0.5, 0.6, 0.7],\n",
        "    [0.1, 0.3, 0.5],\n",
        "    [0.2, 0.4, 0.6],\n",
        "    [0.3, 0.5, 0.7],\n",
        "    [0.4, 0.6, 0.8],\n",
        "    [0.5, 0.7, 0.1]\n",
        "])\n",
        "y_train = np.array([0.5349, 0.5498, 0.5646, 0.5939, 0.5548, 0.5695, 0.5842, 0.5987, 0.5548])\n",
        "\n",
        "# Initialize weights and bias\n",
        "weights = np.random.rand(3)\n",
        "bias = np.random.rand(1)\n",
        "\n",
        "# Hyperparameters\n",
        "learning_rate = 0.01\n",
        "epochs = 1000\n",
        "\n",
        "# Mean Squared Error\n",
        "def mse(y_true, y_pred):\n",
        "    return np.mean((y_true - y_pred) ** 2)\n",
        "\n",
        "# Training the model\n",
        "for epoch in range(epochs):\n",
        "    # Forward pass\n",
        "    y_pred = np.dot(X_train, weights) + bias\n",
        "    y_pred = sigmoid(y_pred)\n",
        "\n",
        "    # Compute error\n",
        "    error = y_train - y_pred\n",
        "\n",
        "    # Backward pass (gradient descent)\n",
        "    weights_gradient = -2 * np.dot(X_train.T, error * sigmoid_derivative(y_pred)) / len(X_train)\n",
        "    bias_gradient = -2 * np.mean(error * sigmoid_derivative(y_pred))\n",
        "\n",
        "    # Update weights and bias\n",
        "    weights -= learning_rate * weights_gradient\n",
        "    bias -= learning_rate * bias_gradient\n",
        "\n",
        "# Calculate mean squared error on training data\n",
        "train_mse = mse(y_train, y_pred)\n",
        "print(f\"Training MSE: {train_mse}\")\n",
        "\n",
        "# Test data\n",
        "X_test = np.array([\n",
        "    [0.6, 0.7, 0.8],\n",
        "    [0.7, 0.8, 0.9]\n",
        "])\n",
        "y_test = np.array([0.6083, 0.6225])\n",
        "\n",
        "# Predict on test data\n",
        "y_test_pred = np.dot(X_test, weights) + bias\n",
        "y_test_pred = sigmoid(y_test_pred)\n",
        "\n",
        "# Calculate mean squared error on test data\n",
        "test_mse = mse(y_test, y_test_pred)\n",
        "print(f\"Testing MSE: {test_mse}\")\n",
        "\n",
        "# Predict output for user input\n",
        "def predict(x1, x2, x3):\n",
        "    input_data = np.array([x1, x2, x3])\n",
        "    output = np.dot(input_data, weights) + bias\n",
        "    return sigmoid(output)\n",
        "\n",
        "# Read input data from user\n",
        "x1 = float(input(\"Enter x1: \"))\n",
        "x2 = float(input(\"Enter x2: \"))\n",
        "x3 = float(input(\"Enter x3: \"))\n",
        "predicted_output = predict(x1, x2, x3)\n",
        "print(f\"Predicted Output: {predicted_output}\")"
      ],
      "metadata": {
        "colab": {
          "base_uri": "https://localhost:8080/"
        },
        "id": "zO4loHN3RySi",
        "outputId": "ce519a8b-62a6-4d36-b2f7-57fcdc969e79"
      },
      "execution_count": 2,
      "outputs": [
        {
          "output_type": "stream",
          "name": "stdout",
          "text": [
            "Training MSE: 0.002729292457796508\n",
            "Testing MSE: 4.5466623794038316e-05\n",
            "Enter x1: 0.1\n",
            "Enter x2: 0.2\n",
            "Enter x3: 0.3\n",
            "Predicted Output: [0.60719166]\n"
          ]
        }
      ]
    }
  ]
}