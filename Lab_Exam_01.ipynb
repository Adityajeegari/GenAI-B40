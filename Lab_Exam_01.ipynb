{
  "nbformat": 4,
  "nbformat_minor": 0,
  "metadata": {
    "colab": {
      "provenance": [],
      "authorship_tag": "ABX9TyOzh9pfatigeD1iEogoPOr9",
      "include_colab_link": true
    },
    "kernelspec": {
      "name": "python3",
      "display_name": "Python 3"
    },
    "language_info": {
      "name": "python"
    }
  },
  "cells": [
    {
      "cell_type": "markdown",
      "metadata": {
        "id": "view-in-github",
        "colab_type": "text"
      },
      "source": [
        "<a href=\"https://colab.research.google.com/github/Adityajeegari/GenAIB-40/blob/main/Lab_Exam_01.ipynb\" target=\"_parent\"><img src=\"https://colab.research.google.com/assets/colab-badge.svg\" alt=\"Open In Colab\"/></a>"
      ]
    },
    {
      "cell_type": "code",
      "execution_count": 1,
      "metadata": {
        "colab": {
          "base_uri": "https://localhost:8080/"
        },
        "id": "sqQb6kCMc5VQ",
        "outputId": "e78ebaa7-599d-4214-eae3-b9927dc943ff"
      },
      "outputs": [
        {
          "output_type": "stream",
          "name": "stdout",
          "text": [
            "Accuracy (manual): 0.6\n",
            "Class 0 - Precision (manual): 0.5, Recall (manual): 0.5, F1-Score (manual): 0.5\n",
            "Class 1 - Precision (manual): 0.6666666666666666, Recall (manual): 0.6666666666666666, F1-Score (manual): 0.6666666666666666\n",
            "\n",
            "Accuracy (sklearn): 0.6\n",
            "Class 0 - Precision (sklearn): 0.5, Recall (sklearn): 0.5, F1-Score (sklearn): 0.5\n",
            "Class 1 - Precision (sklearn): 0.6666666666666666, Recall (sklearn): 0.6666666666666666, F1-Score (sklearn): 0.6666666666666666\n"
          ]
        }
      ],
      "source": [
        "y_actual = [1, 0, 1, 1, 0]\n",
        "y_pred = [1, 1, 1, 0, 0]\n",
        "\n",
        "# Calculating evaluation metrics from scratch\n",
        "def accuracy(y_actual, y_pred):\n",
        "    correct = sum(a == p for a, p in zip(y_actual, y_pred))\n",
        "    return correct / len(y_actual)\n",
        "\n",
        "def precision(y_actual, y_pred, target):\n",
        "    tp = sum((a == p == target) for a, p in zip(y_actual, y_pred))\n",
        "    fp = sum((a != target and p == target) for a, p in zip(y_actual, y_pred))\n",
        "    return tp / (tp + fp) if (tp + fp) > 0 else 0\n",
        "\n",
        "def recall(y_actual, y_pred, target):\n",
        "    tp = sum((a == p == target) for a, p in zip(y_actual, y_pred))\n",
        "    fn = sum((a == target and p != target) for a, p in zip(y_actual, y_pred))\n",
        "    return tp / (tp + fn) if (tp + fn) > 0 else 0\n",
        "\n",
        "def f1_score(precision, recall):\n",
        "    return 2 * (precision * recall) / (precision + recall) if (precision + recall) > 0 else 0\n",
        "\n",
        "# Calculate metrics for each class\n",
        "targets = set(y_actual)\n",
        "metrics = {}\n",
        "for target in targets:\n",
        "    prec = precision(y_actual, y_pred, target)\n",
        "    rec = recall(y_actual, y_pred, target)\n",
        "    f1 = f1_score(prec, rec)\n",
        "    metrics[target] = {\n",
        "        'precision': prec,\n",
        "        'recall': rec,\n",
        "        'f1_score': f1\n",
        "    }\n",
        "\n",
        "# Calculate overall accuracy\n",
        "acc = accuracy(y_actual, y_pred)\n",
        "\n",
        "print(\"Accuracy (manual):\", acc)\n",
        "for target, metric in metrics.items():\n",
        "    print(f\"Class {target} - Precision (manual): {metric['precision']}, Recall (manual): {metric['recall']}, F1-Score (manual): {metric['f1_score']}\")\n",
        "\n",
        "# Using sklearn to calculate metrics\n",
        "from sklearn.metrics import accuracy_score, precision_score, recall_score, f1_score\n",
        "\n",
        "accuracy_sklearn = accuracy_score(y_actual, y_pred)\n",
        "precision_sklearn = precision_score(y_actual, y_pred, average=None)\n",
        "recall_sklearn = recall_score(y_actual, y_pred, average=None)\n",
        "f1_sklearn = f1_score(y_actual, y_pred, average=None)\n",
        "\n",
        "print(\"\\nAccuracy (sklearn):\", accuracy_sklearn)\n",
        "for idx, target in enumerate(targets):\n",
        "    print(f\"Class {target} - Precision (sklearn): {precision_sklearn[idx]}, Recall (sklearn): {recall_sklearn[idx]}, F1-Score (sklearn): {f1_sklearn[idx]}\")"
      ]
    }
  ]
}